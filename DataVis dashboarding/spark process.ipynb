{
 "cells": [
  {
   "cell_type": "code",
   "execution_count": 8,
   "metadata": {},
   "outputs": [
    {
     "data": {
      "text/plain": [
       "DataFrame[summary: string, _c0: string, _c1: string, _c2: string, _c3: string, _c4: string, _c5: string, _c6: string, _c7: string]"
      ]
     },
     "execution_count": 8,
     "metadata": {},
     "output_type": "execute_result"
    }
   ],
   "source": [
    "from pyspark.sql import SparkSession\n",
    "\n",
    "spark = SparkSession \\\n",
    "    .builder \\\n",
    "    .appName(\"Python Spark SQL basic example\") \\\n",
    "    .config(\"spark.some.config.option\", \"some-value\") \\\n",
    "    .getOrCreate()\n",
    "\n",
    "df = spark.read.csv(\"Crop_recommendation.csv\",header=None)\n",
    "df.describe()\n",
    "\n",
    "\n"
   ]
  },
  {
   "cell_type": "code",
   "execution_count": 9,
   "metadata": {},
   "outputs": [
    {
     "name": "stdout",
     "output_type": "stream",
     "text": [
      "+---+---+---+-----------+-----------------+------------------+------------------+-----+\n",
      "|_c0|_c1|_c2|        _c3|              _c4|               _c5|               _c6|  _c7|\n",
      "+---+---+---+-----------+-----------------+------------------+------------------+-----+\n",
      "|  N|  P|  K|temperature|         humidity|                ph|          rainfall|label|\n",
      "| 90| 42| 43|20.87974371|      82.00274423| 6.502985292000001|       202.9355362| rice|\n",
      "| 85| 58| 41|21.77046169|      80.31964408|       7.038096361|       226.6555374| rice|\n",
      "| 60| 55| 44|23.00445915|       82.3207629|       7.840207144|       263.9642476| rice|\n",
      "| 74| 35| 40|26.49109635|      80.15836264|       6.980400905|       242.8640342| rice|\n",
      "| 78| 42| 42|20.13017482|      81.60487287|       7.628472891|       262.7173405| rice|\n",
      "| 69| 37| 42|23.05804872|      83.37011772|       7.073453503|       251.0549998| rice|\n",
      "| 69| 55| 38|22.70883798|      82.63941394|        5.70080568|       271.3248604| rice|\n",
      "| 94| 53| 40|20.27774362|      82.89408619| 5.718627177999999|       241.9741949| rice|\n",
      "| 89| 54| 38|24.51588066|83.53521629999999|       6.685346424|       230.4462359| rice|\n",
      "| 68| 58| 38|23.22397386|      83.03322691|       6.336253525|       221.2091958| rice|\n",
      "| 91| 53| 40|26.52723513|      81.41753846|       5.386167788|       264.6148697| rice|\n",
      "| 90| 46| 42|23.97898217|      81.45061596|        7.50283396|       250.0832336| rice|\n",
      "| 78| 58| 44|26.80079604|      80.88684822|       5.108681786|       284.4364567| rice|\n",
      "| 93| 56| 36|24.01497622|      82.05687182|        6.98435366|       185.2773389| rice|\n",
      "| 94| 50| 37|25.66585205|      80.66385045|        6.94801983|       209.5869708| rice|\n",
      "| 60| 48| 39|24.28209415|      80.30025587|7.0422990689999985|       231.0863347| rice|\n",
      "| 85| 38| 41|21.58711777|       82.7883708|6.2490506560000005|276.65524589999995| rice|\n",
      "| 91| 35| 39|23.79391957|      80.41817957|       6.970859754|       206.2611855| rice|\n",
      "| 77| 38| 36| 21.8652524|       80.1923008|       5.953933276|224.55501690000003| rice|\n",
      "+---+---+---+-----------+-----------------+------------------+------------------+-----+\n",
      "only showing top 20 rows\n",
      "\n"
     ]
    }
   ],
   "source": [
    "df.d"
   ]
  }
 ],
 "metadata": {
  "kernelspec": {
   "display_name": "Python 3.10.7 64-bit ('3.10.7')",
   "language": "python",
   "name": "python3"
  },
  "language_info": {
   "codemirror_mode": {
    "name": "ipython",
    "version": 3
   },
   "file_extension": ".py",
   "mimetype": "text/x-python",
   "name": "python",
   "nbconvert_exporter": "python",
   "pygments_lexer": "ipython3",
   "version": "3.10.7"
  },
  "orig_nbformat": 4,
  "vscode": {
   "interpreter": {
    "hash": "9cf29104c396dfeda137d2d27ffc0d7f075cbcf9ce74b2e0b7cf6b08965cd798"
   }
  }
 },
 "nbformat": 4,
 "nbformat_minor": 2
}
