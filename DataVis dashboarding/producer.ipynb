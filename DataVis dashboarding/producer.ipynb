{
 "cells": [
  {
   "cell_type": "code",
   "execution_count": 12,
   "metadata": {},
   "outputs": [
    {
     "name": "stdout",
     "output_type": "stream",
     "text": [
      "{'N': '90', 'P': '42', 'K': '43', 'temperature': '20.87974371', 'humidity': '82.00274423', 'ph': '6.502985292000001', 'rainfall': '202.9355362', 'label': 'rice'}\n",
      "{'N': '85', 'P': '58', 'K': '41', 'temperature': '21.77046169', 'humidity': '80.31964408', 'ph': '7.038096361', 'rainfall': '226.6555374', 'label': 'rice'}\n",
      "{'N': '60', 'P': '55', 'K': '44', 'temperature': '23.00445915', 'humidity': '82.3207629', 'ph': '7.840207144', 'rainfall': '263.9642476', 'label': 'rice'}\n",
      "{'N': '74', 'P': '35', 'K': '40', 'temperature': '26.49109635', 'humidity': '80.15836264', 'ph': '6.980400905', 'rainfall': '242.8640342', 'label': 'rice'}\n",
      "{'N': '78', 'P': '42', 'K': '42', 'temperature': '20.13017482', 'humidity': '81.60487287', 'ph': '7.628472891', 'rainfall': '262.7173405', 'label': 'rice'}\n"
     ]
    }
   ],
   "source": [
    "\n",
    "from kafka import KafkaProducer\n",
    "import json\n",
    "from json import dumps\n",
    "import time\n",
    "\n",
    "def json_serializer(data):\n",
    "    return json.dumps(data).encode(\"utf-8\")\n",
    "\n",
    "Mybroker= '127.0.0.1:9092'\n",
    "producer = KafkaProducer(\n",
    "            bootstrap_servers='127.0.0.1:9092', value_serializer=lambda x: dumps(x).encode('utf-8'))\n",
    "f = open('IOTData')\n",
    "\n",
    "# returns JSON object as\n",
    "# a dictionary\n",
    "data = json.load(f)\n",
    "\n",
    "# Iterating through the json\n",
    "# list\n",
    "topic=\"IotData\"\n",
    "for i in data:\n",
    "    print(data[i])\n",
    "    producer.send(topic, value=data[i])\n",
    "    time.sleep(4)\n",
    "    producer.flush()\n",
    "    ##for j in data [i]:\n",
    "\n",
    "        ##time.sleep(4)\n",
    "        ##producer.flush()\n",
    "        ##print(j)\n",
    "\n",
    "# Closing file\n",
    "\n",
    "##print(data)\n",
    "f.close()\n",
    "\n",
    "\n",
    "\n"
   ]
  }
 ],
 "metadata": {
  "kernelspec": {
   "display_name": "Python 3.10.7 64-bit ('3.10.7')",
   "language": "python",
   "name": "python3"
  },
  "language_info": {
   "codemirror_mode": {
    "name": "ipython",
    "version": 3
   },
   "file_extension": ".py",
   "mimetype": "text/x-python",
   "name": "python",
   "nbconvert_exporter": "python",
   "pygments_lexer": "ipython3",
   "version": "3.10.7 (main, Oct 14 2022, 20:13:30) [Clang 14.0.0 (clang-1400.0.29.102)]"
  },
  "orig_nbformat": 4,
  "vscode": {
   "interpreter": {
    "hash": "9cf29104c396dfeda137d2d27ffc0d7f075cbcf9ce74b2e0b7cf6b08965cd798"
   }
  }
 },
 "nbformat": 4,
 "nbformat_minor": 2
}
